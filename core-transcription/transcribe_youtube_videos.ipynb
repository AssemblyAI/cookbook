{
  "cells": [
    {
      "cell_type": "markdown",
      "metadata": {
        "id": "5YYNSNwi1Qju"
      },
      "source": [
        "# How to Get YouTube Video Transcripts with yt-dlp\n",
        "\n",
        "In this guide, we'll show you how to get YouTube transcripts.\n",
        "\n",
        "For this, we use the [yt-dlp](https://github.com/yt-dlp/yt-dlp) library to download YouTube videos and then transcribe it with the AssemblyAI API.\n",
        "\n",
        "`yt-dlp` is a [youtube-dl](https://github.com/ytdl-org/youtube-dl) fork with additional features and fixes. It is better maintained and preferred over `youtube-dl` nowadays.\n",
        "\n",
        "In this guide we'll show 3 different approaches:\n",
        "\n",
        "- Option 1: Download video via CLI\n",
        "- Option 2: Download video via code\n",
        "- Option 3: Extract audio url without downloading\n",
        "\n",
        "Let's get started!"
      ]
    },
    {
      "cell_type": "markdown",
      "metadata": {
        "id": "UjDmHj8j1Kb8"
      },
      "source": [
        "## Install Dependencies\n",
        "\n",
        "Install [yt-dlp](https://github.com/yt-dlp/yt-dlp) and the [AssemblyAI Python SDK](https://github.com/AssemblyAI/assemblyai-python-sdk) via pip."
      ]
    },
    {
      "cell_type": "code",
      "execution_count": null,
      "metadata": {
        "id": "cTj3fv9JNfec"
      },
      "outputs": [],
      "source": [
        "!pip install -U yt-dlp"
      ]
    },
    {
      "cell_type": "code",
      "execution_count": null,
      "metadata": {
        "id": "bOwNZqwNRXeH"
      },
      "outputs": [],
      "source": [
        "!pip install assemblyai"
      ]
    },
    {
      "cell_type": "markdown",
      "metadata": {
        "id": "6Odi9C4PC4Q_"
      },
      "source": [
        "## Option 1: Download video via CLI"
      ]
    },
    {
      "cell_type": "markdown",
      "metadata": {
        "id": "izfLx--WaO9k"
      },
      "source": [
        "In this approach we download the YouTube video via the command line and then transcribe it via the AssemblyAI API. We use the following video here:\n",
        "\n",
        "- https://www.youtube.com/watch?v=wtolixa9XTg\n",
        "\n",
        "To download it, use the `yt-dlp` command with the following options:\n",
        "\n",
        "- `-f m4a/bestaudio`: The format should be the best audio version in m4a format.\n",
        "- `-o \"%(id)s.%(ext)s\"`: The output name should be the id followed by the extension. In this example, the video gets saved to \"wtolixa9XTg.m4a\".\n",
        "- `wtolixa9XTg`: the id of the video."
      ]
    },
    {
      "cell_type": "code",
      "execution_count": 4,
      "metadata": {
        "colab": {
          "base_uri": "https://localhost:8080/"
        },
        "id": "TmCGVktCF_DF",
        "outputId": "aa0948e0-4d2d-4b05-924e-699257a3618e"
      },
      "outputs": [
        {
          "name": "stdout",
          "output_type": "stream",
          "text": [
            "[youtube] Extracting URL: wtolixa9XTg\n",
            "[youtube] wtolixa9XTg: Downloading webpage\n",
            "[youtube] wtolixa9XTg: Downloading ios player API JSON\n",
            "[youtube] wtolixa9XTg: Downloading android player API JSON\n",
            "[youtube] wtolixa9XTg: Downloading m3u8 information\n",
            "[info] wtolixa9XTg: Downloading 1 format(s): 140\n",
            "[download] Destination: wtolixa9XTg.m4a\n",
            "\u001b[K[download] 100% of    7.14MiB in \u001b[1;37m00:00:00\u001b[0m at \u001b[0;32m16.32MiB/s\u001b[0m\n",
            "[FixupM4a] Correcting container of \"wtolixa9XTg.m4a\"\n"
          ]
        }
      ],
      "source": [
        "!yt-dlp -f m4a/bestaudio -o \"%(id)s.%(ext)s\" wtolixa9XTg"
      ]
    },
    {
      "cell_type": "markdown",
      "metadata": {
        "id": "NxcsSZus7gru"
      },
      "source": [
        "Next, set up the AssemblyAI SDK and trancribe the file. Replace `YOUR_API_KEY` with your own key. If you don't have one, you can [sign up here](https://assemblyai.com/dashboard/signup) for free.\n",
        "\n",
        "Make sure that the path you pass to the `transcribe()` function corresponds to the saved filename."
      ]
    },
    {
      "cell_type": "code",
      "execution_count": 5,
      "metadata": {
        "id": "nvoaFsS9al0U"
      },
      "outputs": [],
      "source": [
        "import assemblyai as aai\n",
        "\n",
        "aai.settings.api_key = \"YOUR_API_KEY\"\n",
        "\n",
        "transcriber = aai.Transcriber()\n",
        "transcript = transcriber.transcribe(\"wtolixa9XTg.m4a\")"
      ]
    },
    {
      "cell_type": "code",
      "execution_count": 14,
      "metadata": {
        "colab": {
          "base_uri": "https://localhost:8080/",
          "height": 143
        },
        "id": "NCYWChOz1453",
        "outputId": "d14b2dce-94c2-4e0f-f8a3-0892960829a0"
      },
      "outputs": [
        {
          "data": {
            "application/vnd.google.colaboratory.intrinsic+json": {
              "type": "string"
            },
            "text/plain": [
              "\"Hi everyone, I'm Patrick and in this video I show you how I would learn machine learning if I could start over. For context, I'm a machine learning developer advocate at Assemblyai and before that I worked several years as software developer and ML Engineer, and I also teach Python and machine learning on my own YouTube channel. So I would say I'm pretty experienced in the field, but I know that the available courses out there can be overwhelming for beginners, so I hope to give you some guide ends with this video. The demand for machine learning engineers is still increasing every year, so it's a great skill to have. I divided this learning path into seven steps that should take you about three months to finish. Of course, this can vary depending on how much time and effort you want to put into this, and I know that everyone learns differently or might have different goals. So this is just my personal take on how to learn machine learning. You can use this guide if you just want to explore machine learning as a hobby, but also if you plan to find a job in the field, I will mention a few more tips about the job search in the end. So let's jump into the study plan. The first thing I recommend is to lay the foundation with some math basics. Now you might say math is not really necessary anymore, and this is partly true. The available machine learning frameworks abstract the math away, and I know many machine learning engineers who don't need it in their day job at all. However, in my opinion, knowing the underlying math provides you with a better foundation and better understanding of how the algorithms work, and it makes your life easier when you run into problems. Also, I think there is beauty in the underlying math that makes the machines learn. So for me, knowing the math sparked my excitement even more. Now, you don't need to get too deep into this. A great website with free resources is Khan Academy. So my recommendation is just to take some basic courses and then move on. And then later when you do the actual machine learning course and don't understand everything, then come back here and learn the missing topics. Oh, and by the way, you find all the resources and recommended courses in the description below. The next step is to learn Python. It is the number one programming language for machine learning and there is no way around it. All major machine learning frameworks are built with it, and all major courses use Python for their exercises. So having decent Python skills is essential to build machine learning projects. Now you don't need to become an advanced software developer, but a little bit more than the beginner level would be great. One great thing about Python is that it is very beginner friendly, and in my opinion, it's the best first programming language you can learn. I recommend two free courses on YouTube, one four hour beginner course and one six hour intermediate course, and then you should have a solid base. This step is what I call the Machine learning tech stack and consists of the most important Python libraries for machine learning, data science, and data visualization. This step is a bit optional because you can also pick up these skills later when you do the actual machine learning course, but I think it's great to build the foundation first, and then it will be easier later. The three libraries I recommend at this point are numpy, which is the base for everything, Pandas, which is important for data handling, and Matplotlib, which is needed for visualization. These libraries are used in almost every machine learning project. That's why I would include them in your learning path at this point. Again, you don't need to learn too much here. I recommend just following one free crash course for each library, and then later pick up more advanced concepts if you need them. At this point, you don't have to learn the machine learning courses like ScikitLearn, TensorFlow, or Pytorch. You could, of course, if you want, but these are included in the machine learning course I show you in a moment, so you can pick these up later. Now that we've covered the coding skills, it is finally time for the actual machine learning course. There are many great ones available, but the most popular, and in my opinion, also one of the best ones, is the machine learning specialization by Andrew Ng on Coursera. This specialization includes three courses. It got revamped just a few months ago and now includes Python with Numpy, ScikitLearn and TensorFlow for the code. So you not only learn all the essential machine learning concepts, but also get your first hands on experience with the ML libraries. It is extensive and it takes several weeks to finish, but it's worth it after these courses. I have one more recommendation for you. I suggest to implement a few algorithms from scratch in Python using only pure Python and Numpy, for example, by following my ML from scratch playlist here on YouTube. This is completely optional, but it helped me to properly understand some of the concepts from Andrew's course, and a lot of students have told me the same feedback, so check it out if you want to. Also, we plan to release an updated version of the ML from Scratch course here on the Assemblyai channel, so make sure to subscribe to our channel and don't miss it. Now I recommend getting even more hands on and learning more about data preparation for this. Keckle has awesome free courses on their website. I recommend at least the intro to ML and intermediate ML courses. They are lightweight compared to the previous one and some material is just a refresher for you, but you learn more about data preprocessing and data preparation with pandas. Each lesson has a theory part and then some coding exercises. It also gives you a gentle introduction to the Kaggle platform and you learn how to make code submissions on Kaggle, which is perfect for the next point. Now it's time to practice as much as possible and apply your knowledge to real world machine learning problems. For this, the best platform is Kaggle.com. It provides thousands of different datasets and challenges where you can participate. Participating in challenges can motivate you a lot. Now, I wouldn't try making it to the top or even winning prize money with this, because to be honest, this requires true expertise and also a lot of GPU power. But I would still try to tweak your solutions multiple times by learning more about data pre processing and also about hyperparameter tuning. You can then use Kaggle competitions to build your portfolio and put them on your CV. So in my opinion, Kaggle is an awesome platform and you should practice here as much as possible. Of course, you can also tackle other machine learning problems outside of Kaggle. It just makes your life a little bit easier because it provides you with the datasets, a platform to evaluate the projects, and there's a whole community around it. At this point, you can already be super proud of yourself. And now in this last section, I want to give you a few more tips. If your goal is to get a job. The tasks of ML engineers vary a lot and it's not possible to know everything. For example, some positions are specialized in computer vision or NLP, or they require you to have experience with a specific ML framework or even MLOPs requirements, like how to deploy and scale ML apps. ML Ops is a whole field on its own, so I may cover this in a separate video. My point is, you have to decide in which field you want to work, and then look at the requirements and some corresponding job descriptions, and then specialize in this direction. Another great tip I can give you, and this is something I wish I had done earlier in my career, is to start a blog. You can write tutorials, share what you've learned, which projects you have built, which problems you have faced along the way, and how you've solved them by writing about a topic, you can deepen your knowledge and then you can use this as a resource on your CV. Trust me, this will increase your chances to get an interview a lot. All right, that's my recommendation for a machine learning study guide. Again, this might not be suited for everyone. This is just how I would learn machine learning if I had to start over. Just one more quick addition. If you prefer learning with books, then you can check out these two books. Let me know in the comments if this was helpful, or if you have any other suggestions you would add to the plan. Don't forget to check out the resource list I put in the description below and then I hope to see you in the next video. Bye.\""
            ]
          },
          "execution_count": 14,
          "metadata": {},
          "output_type": "execute_result"
        }
      ],
      "source": [
        "transcript.text"
      ]
    },
    {
      "cell_type": "markdown",
      "metadata": {
        "id": "TsNgF7XjC6p6"
      },
      "source": [
        "## Option 2: Download video via code"
      ]
    },
    {
      "cell_type": "markdown",
      "metadata": {
        "id": "sAgakTyCaT_H"
      },
      "source": [
        "In this approach we download the video with a Python script instead of the command line.\n",
        "\n",
        "You can download the file with the following code:"
      ]
    },
    {
      "cell_type": "code",
      "execution_count": 7,
      "metadata": {
        "colab": {
          "base_uri": "https://localhost:8080/"
        },
        "id": "yF26d-N7vHYf",
        "outputId": "c251d291-c729-4063-b91e-d9c67a09804c"
      },
      "outputs": [
        {
          "name": "stdout",
          "output_type": "stream",
          "text": [
            "[youtube] Extracting URL: https://www.youtube.com/watch?v=wtolixa9XTg\n",
            "[youtube] wtolixa9XTg: Downloading webpage\n",
            "[youtube] wtolixa9XTg: Downloading ios player API JSON\n",
            "[youtube] wtolixa9XTg: Downloading android player API JSON\n",
            "[youtube] wtolixa9XTg: Downloading m3u8 information\n",
            "[info] wtolixa9XTg: Downloading 1 format(s): 140\n",
            "[download] wtolixa9XTg.m4a has already been downloaded\n",
            "[download] 100% of    7.13MiB\n",
            "[ExtractAudio] Not converting audio wtolixa9XTg.m4a; file is already in target format m4a\n"
          ]
        }
      ],
      "source": [
        "import yt_dlp\n",
        "\n",
        "URLS = ['https://www.youtube.com/watch?v=wtolixa9XTg']\n",
        "\n",
        "ydl_opts = {\n",
        "    'format': 'm4a/bestaudio/best',  # The best audio version in m4a format\n",
        "    'outtmpl': '%(id)s.%(ext)s',  # The output name should be the id followed by the extension\n",
        "    'postprocessors': [{  # Extract audio using ffmpeg\n",
        "        'key': 'FFmpegExtractAudio',\n",
        "        'preferredcodec': 'm4a',\n",
        "    }]\n",
        "}\n",
        "\n",
        "\n",
        "with yt_dlp.YoutubeDL(ydl_opts) as ydl:\n",
        "    error_code = ydl.download(URLS)"
      ]
    },
    {
      "cell_type": "markdown",
      "metadata": {
        "id": "V5eKUhDs9dTX"
      },
      "source": [
        "After downloading, you can again use the code from option 1 to transcribe the file:"
      ]
    },
    {
      "cell_type": "code",
      "execution_count": null,
      "metadata": {
        "id": "2sfnjZC_9gaD"
      },
      "outputs": [],
      "source": [
        "import assemblyai as aai\n",
        "\n",
        "aai.settings.api_key = \"YOUR_API_KEY\"\n",
        "\n",
        "transcriber = aai.Transcriber()\n",
        "transcript = transcriber.transcribe(\"wtolixa9XTg.m4a\")"
      ]
    },
    {
      "cell_type": "markdown",
      "metadata": {
        "id": "Gz3GNx3JC87_"
      },
      "source": [
        "## Option 3: Extract audio url without downloading"
      ]
    },
    {
      "cell_type": "markdown",
      "metadata": {
        "id": "ppSkDKIeadCj"
      },
      "source": [
        "In this approach, we don't download the file at all. Instead, we use `yt-dlp` to extract a publicly accessible url of the video that the AssemblyAI API can handle.\n",
        "\n",
        "First, extract the video info with this code:"
      ]
    },
    {
      "cell_type": "code",
      "execution_count": 8,
      "metadata": {
        "colab": {
          "base_uri": "https://localhost:8080/"
        },
        "id": "yfyfZbmMOBkp",
        "outputId": "af24a631-eec8-42db-bbc5-10f20115144d"
      },
      "outputs": [
        {
          "name": "stdout",
          "output_type": "stream",
          "text": [
            "[youtube] Extracting URL: https://www.youtube.com/watch?v=wtolixa9XTg\n",
            "[youtube] wtolixa9XTg: Downloading webpage\n",
            "[youtube] wtolixa9XTg: Downloading ios player API JSON\n",
            "[youtube] wtolixa9XTg: Downloading android player API JSON\n",
            "[youtube] wtolixa9XTg: Downloading m3u8 information\n"
          ]
        }
      ],
      "source": [
        "import yt_dlp\n",
        "\n",
        "URL = 'https://www.youtube.com/watch?v=wtolixa9XTg'\n",
        "\n",
        "with yt_dlp.YoutubeDL() as ydl:\n",
        "    info = ydl.extract_info(URL, download=False)"
      ]
    },
    {
      "cell_type": "markdown",
      "metadata": {
        "id": "UGMT3R-p-t_t"
      },
      "source": [
        "Next, iterate over all formats. The formats are already sorted worst to best, so we iterate in reverse and stop at the first m4a file. This is the format with the best audio version.\n",
        "\n",
        "The url to the hosted file can then be accessed with the `url` key."
      ]
    },
    {
      "cell_type": "code",
      "execution_count": 10,
      "metadata": {
        "colab": {
          "base_uri": "https://localhost:8080/"
        },
        "id": "kw2hUU49OTR7",
        "outputId": "1b42d3da-67ac-453f-977f-4f2984ff14df"
      },
      "outputs": [
        {
          "name": "stdout",
          "output_type": "stream",
          "text": [
            "https://rr3---sn-q4fzenee.googlevideo.com/videoplayback?expire=1700490576&ei=8BhbZfvACJWzsfIPqZ6U8Ag&ip=34.125.111.1&id=o-AMLjZ2ZLO-E2194RF4kTVtjFbzFbkD9P5GDPvHQ2bSt3&itag=140&source=youtube&requiressl=yes&mh=AE&mm=31%2C26&mn=sn-q4fzenee%2Csn-a5mekn6s&ms=au%2Conr&mv=u&mvi=3&pl=21&vprv=1&svpuc=1&mime=audio%2Fmp4&gir=yes&clen=7486557&dur=462.541&lmt=1689983079290840&mt=1700467761&fvip=2&keepalive=yes&fexp=24007246&beids=24350018&c=IOS&txp=4432434&sparams=expire%2Cei%2Cip%2Cid%2Citag%2Csource%2Crequiressl%2Cvprv%2Csvpuc%2Cmime%2Cgir%2Cclen%2Cdur%2Clmt&sig=ANLwegAwRQIhANdpXltSWFLSbLmBx3DS5Uv5oHlmtRmxTlfdykktYMC-AiA9-y9RTaB4cZdtezzaNMzzQaVTTsBdLM2T_7WoZzNP7Q%3D%3D&lsparams=mh%2Cmm%2Cmn%2Cms%2Cmv%2Cmvi%2Cpl&lsig=AM8Gb2swRQIgLDvNSnFWE_g6XnHwnq8CuoMfz59pLCvdCvOX2K1C45ECIQC98tb6CrE21vfHdYhJ4Zr7W0rpFax2qrtNdT12CEhD2Q%3D%3D\n"
          ]
        }
      ],
      "source": [
        "# formats are already sorted worst to best\n",
        "# --> iterate in reverse and take the first audio to get the best\n",
        "for format in info[\"formats\"][::-1]:\n",
        "  if format[\"resolution\"] == \"audio only\" and format[\"ext\"] == \"m4a\":\n",
        "    url = format[\"url\"]\n",
        "    break\n",
        "\n",
        "print(url)"
      ]
    },
    {
      "cell_type": "markdown",
      "metadata": {
        "id": "WlDtGb8Y_rcp"
      },
      "source": [
        "Now, use the same AssemblyAI SDK code again to transcribe the file. The `transcribe()` function can handle both a path to a local file, or a publicly accessible url like here. Hence, the code is the same as in the other approaches:"
      ]
    },
    {
      "cell_type": "code",
      "execution_count": 12,
      "metadata": {
        "id": "cndgtMuySYCZ"
      },
      "outputs": [],
      "source": [
        "import assemblyai as aai\n",
        "\n",
        "aai.settings.api_key = \"YOUR_API_KEY\"\n",
        "\n",
        "transcriber = aai.Transcriber()\n",
        "transcript = transcriber.transcribe(url)"
      ]
    },
    {
      "cell_type": "code",
      "execution_count": 13,
      "metadata": {
        "colab": {
          "base_uri": "https://localhost:8080/",
          "height": 143
        },
        "id": "20afEDGOSsIZ",
        "outputId": "4aee9071-54ef-42bc-8eba-2702c38de881"
      },
      "outputs": [
        {
          "data": {
            "application/vnd.google.colaboratory.intrinsic+json": {
              "type": "string"
            },
            "text/plain": [
              "\"Hi everyone, I'm Patrick and in this video I show you how I would learn machine learning if I could start over. For context, I'm a machine learning developer advocate at Assemblyai and before that I worked several years as software developer and ML Engineer, and I also teach Python and machine learning on my own YouTube channel. So I would say I'm pretty experienced in the field, but I know that the available courses out there can be overwhelming for beginners, so I hope to give you some guide ends with this video. The demand for machine learning engineers is still increasing every year, so it's a great skill to have. I divided this learning path into seven steps that should take you about three months to finish. Of course, this can vary depending on how much time and effort you want to put into this, and I know that everyone learns differently or might have different goals. So this is just my personal take on how to learn machine learning. You can use this guide if you just want to explore machine learning as a hobby, but also if you plan to find a job in the field, I will mention a few more tips about the job search in the end. So let's jump into the study plan. The first thing I recommend is to lay the foundation with some math basics. Now you might say math is not really necessary anymore, and this is partly true. The available machine learning frameworks abstract the math away, and I know many machine learning engineers who don't need it in their day job at all. However, in my opinion, knowing the underlying math provides you with a better foundation and better understanding of how the algorithms work, and it makes your life easier when you run into problems. Also, I think there is beauty in the underlying math that makes the machines learn. So for me, knowing the math sparked my excitement even more. Now, you don't need to get too deep into this. A great website with free resources is Khan Academy. So my recommendation is just to take some basic courses and then move on. And then later when you do the actual machine learning course and don't understand everything, then come back here and learn the missing topics. Oh, and by the way, you find all the resources and recommended courses in the description below. The next step is to learn Python. It is the number one programming language for machine learning and there is no way around it. All major machine learning frameworks are built with it, and all major courses use Python for their exercises. So having decent Python skills is essential to build machine learning projects. Now you don't need to become an advanced software developer, but a little bit more than the beginner level would be great. One great thing about Python is that it is very beginner friendly, and in my opinion, it's the best first programming language you can learn. I recommend two free courses on YouTube, one four hour beginner course and one six hour intermediate course, and then you should have a solid base. This step is what I call the Machine learning tech stack and consists of the most important Python libraries for machine learning, data science, and data visualization. This step is a bit optional because you can also pick up these skills later when you do the actual machine learning course, but I think it's great to build the foundation first, and then it will be easier later. The three libraries I recommend at this point are numpy, which is the base for everything, Pandas, which is important for data handling, and Matplotlib, which is needed for visualization. These libraries are used in almost every machine learning project. That's why I would include them in your learning path at this point. Again, you don't need to learn too much here. I recommend just following one free crash course for each library, and then later pick up more advanced concepts if you need them. At this point, you don't have to learn the machine learning courses like ScikitLearn, TensorFlow, or Pytorch. You could, of course, if you want, but these are included in the machine learning course I show you in a moment, so you can pick these up later. Now that we've covered the coding skills, it is finally time for the actual machine learning course. There are many great ones available, but the most popular, and in my opinion, also one of the best ones, is the machine learning specialization by Andrew Ng on Coursera. This specialization includes three courses. It got revamped just a few months ago and now includes Python with Numpy, ScikitLearn and TensorFlow for the code. So you not only learn all the essential machine learning concepts, but also get your first hands on experience with the ML libraries. It is extensive and it takes several weeks to finish, but it's worth it after these courses. I have one more recommendation for you. I suggest to implement a few algorithms from scratch in Python using only pure Python and Numpy, for example, by following my ML from scratch playlist here on YouTube. This is completely optional, but it helped me to properly understand some of the concepts from Andrew's course, and a lot of students have told me the same feedback, so check it out if you want to. Also, we plan to release an updated version of the ML from Scratch course here on the Assemblyai channel, so make sure to subscribe to our channel and don't miss it. Now I recommend getting even more hands on and learning more about data preparation for this. Keckle has awesome free courses on their website. I recommend at least the intro to ML and intermediate ML courses. They are lightweight compared to the previous one and some material is just a refresher for you, but you learn more about data preprocessing and data preparation with pandas. Each lesson has a theory part and then some coding exercises. It also gives you a gentle introduction to the Kaggle platform and you learn how to make code submissions on Kaggle, which is perfect for the next point. Now it's time to practice as much as possible and apply your knowledge to real world machine learning problems. For this, the best platform is Kaggle.com. It provides thousands of different datasets and challenges where you can participate. Participating in challenges can motivate you a lot. Now, I wouldn't try making it to the top or even winning prize money with this, because to be honest, this requires true expertise and also a lot of GPU power. But I would still try to tweak your solutions multiple times by learning more about data pre processing and also about hyperparameter tuning. You can then use Kaggle competitions to build your portfolio and put them on your CV. So in my opinion, Kaggle is an awesome platform and you should practice here as much as possible. Of course, you can also tackle other machine learning problems outside of Kaggle. It just makes your life a little bit easier because it provides you with the datasets, a platform to evaluate the projects, and there's a whole community around it. At this point, you can already be super proud of yourself. And now in this last section, I want to give you a few more tips. If your goal is to get a job. The tasks of ML engineers vary a lot and it's not possible to know everything. For example, some positions are specialized in computer vision or NLP, or they require you to have experience with a specific ML framework or even MLOPs requirements, like how to deploy and scale ML apps. ML Ops is a whole field on its own, so I may cover this in a separate video. My point is, you have to decide in which field you want to work, and then look at the requirements and some corresponding job descriptions, and then specialize in this direction. Another great tip I can give you, and this is something I wish I had done earlier in my career, is to start a blog. You can write tutorials, share what you've learned, which projects you have built, which problems you have faced along the way, and how you've solved them by writing about a topic, you can deepen your knowledge and then you can use this as a resource on your CV. Trust me, this will increase your chances to get an interview a lot. All right, that's my recommendation for a machine learning study guide. Again, this might not be suited for everyone. This is just how I would learn machine learning if I had to start over. Just one more quick addition. If you prefer learning with books, then you can check out these two books. Let me know in the comments if this was helpful, or if you have any other suggestions you would add to the plan. Don't forget to check out the resource list I put in the description below and then I hope to see you in the next video. Bye.\""
            ]
          },
          "execution_count": 13,
          "metadata": {},
          "output_type": "execute_result"
        }
      ],
      "source": [
        "transcript.text"
      ]
    }
  ],
  "metadata": {
    "colab": {
      "provenance": []
    },
    "kernelspec": {
      "display_name": "Python 3",
      "name": "python3"
    },
    "language_info": {
      "name": "python"
    }
  },
  "nbformat": 4,
  "nbformat_minor": 0
}
