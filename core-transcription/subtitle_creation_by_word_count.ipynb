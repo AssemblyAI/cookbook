{
  "nbformat": 4,
  "nbformat_minor": 0,
  "metadata": {
    "colab": {
      "provenance": []
    },
    "kernelspec": {
      "name": "python3",
      "display_name": "Python 3"
    },
    "language_info": {
      "name": "python"
    }
  },
  "cells": [
    {
      "cell_type": "markdown",
      "source": [
        "# Create custom length subtitles with AssemblyAI\n",
        "\n"
      ],
      "metadata": {
        "id": "6jpYYU6Eh14M"
      }
    },
    {
      "cell_type": "markdown",
      "source": [
        "While our SRT/VTT endpoints do allow you to customize the maximum number of characters per caption using the chars_per_caption URL parameter in your API requests, there are some use-cases that require a custom number of words in each subtitle.\n",
        "\n",
        "In this Colab, we will demonstrate how to construct these subtitles yourself in Python!"
      ],
      "metadata": {
        "id": "lOkGwZOeit5E"
      }
    },
    {
      "cell_type": "markdown",
      "source": [
        "## Step-by-Step Instructions"
      ],
      "metadata": {
        "id": "ejk9-USqjVpF"
      }
    },
    {
      "cell_type": "code",
      "source": [
        "pip install -U assemblyai\n"
      ],
      "metadata": {
        "colab": {
          "base_uri": "https://localhost:8080/"
        },
        "id": "8K4rTtDAjefo",
        "outputId": "a34126f3-78dc-47b2-e302-05bb2fea278a"
      },
      "execution_count": 1,
      "outputs": [
        {
          "output_type": "stream",
          "name": "stdout",
          "text": [
            "Collecting assemblyai\n",
            "  Downloading assemblyai-0.19.0-py3-none-any.whl (65 kB)\n",
            "\u001b[2K     \u001b[90m━━━━━━━━━━━━━━━━━━━━━━━━━━━━━━━━━━━━━━━━\u001b[0m \u001b[32m65.7/65.7 kB\u001b[0m \u001b[31m1.6 MB/s\u001b[0m eta \u001b[36m0:00:00\u001b[0m\n",
            "\u001b[?25hCollecting httpx>=0.19.0 (from assemblyai)\n",
            "  Downloading httpx-0.25.0-py3-none-any.whl (75 kB)\n",
            "\u001b[2K     \u001b[90m━━━━━━━━━━━━━━━━━━━━━━━━━━━━━━━━━━━━━━━━\u001b[0m \u001b[32m75.7/75.7 kB\u001b[0m \u001b[31m5.2 MB/s\u001b[0m eta \u001b[36m0:00:00\u001b[0m\n",
            "\u001b[?25hRequirement already satisfied: pydantic!=1.10.7,>=1.7.0 in /usr/local/lib/python3.10/dist-packages (from assemblyai) (1.10.13)\n",
            "Requirement already satisfied: typing-extensions>=3.7 in /usr/local/lib/python3.10/dist-packages (from assemblyai) (4.5.0)\n",
            "Collecting websockets>=11.0 (from assemblyai)\n",
            "  Downloading websockets-12.0-cp310-cp310-manylinux_2_5_x86_64.manylinux1_x86_64.manylinux_2_17_x86_64.manylinux2014_x86_64.whl (130 kB)\n",
            "\u001b[2K     \u001b[90m━━━━━━━━━━━━━━━━━━━━━━━━━━━━━━━━━━━━━━━━\u001b[0m \u001b[32m130.2/130.2 kB\u001b[0m \u001b[31m17.5 MB/s\u001b[0m eta \u001b[36m0:00:00\u001b[0m\n",
            "\u001b[?25hRequirement already satisfied: certifi in /usr/local/lib/python3.10/dist-packages (from httpx>=0.19.0->assemblyai) (2023.7.22)\n",
            "Collecting httpcore<0.19.0,>=0.18.0 (from httpx>=0.19.0->assemblyai)\n",
            "  Downloading httpcore-0.18.0-py3-none-any.whl (76 kB)\n",
            "\u001b[2K     \u001b[90m━━━━━━━━━━━━━━━━━━━━━━━━━━━━━━━━━━━━━━━━\u001b[0m \u001b[32m76.0/76.0 kB\u001b[0m \u001b[31m12.0 MB/s\u001b[0m eta \u001b[36m0:00:00\u001b[0m\n",
            "\u001b[?25hRequirement already satisfied: idna in /usr/local/lib/python3.10/dist-packages (from httpx>=0.19.0->assemblyai) (3.4)\n",
            "Requirement already satisfied: sniffio in /usr/local/lib/python3.10/dist-packages (from httpx>=0.19.0->assemblyai) (1.3.0)\n",
            "Requirement already satisfied: anyio<5.0,>=3.0 in /usr/local/lib/python3.10/dist-packages (from httpcore<0.19.0,>=0.18.0->httpx>=0.19.0->assemblyai) (3.7.1)\n",
            "Collecting h11<0.15,>=0.13 (from httpcore<0.19.0,>=0.18.0->httpx>=0.19.0->assemblyai)\n",
            "  Downloading h11-0.14.0-py3-none-any.whl (58 kB)\n",
            "\u001b[2K     \u001b[90m━━━━━━━━━━━━━━━━━━━━━━━━━━━━━━━━━━━━━━━━\u001b[0m \u001b[32m58.3/58.3 kB\u001b[0m \u001b[31m9.5 MB/s\u001b[0m eta \u001b[36m0:00:00\u001b[0m\n",
            "\u001b[?25hRequirement already satisfied: exceptiongroup in /usr/local/lib/python3.10/dist-packages (from anyio<5.0,>=3.0->httpcore<0.19.0,>=0.18.0->httpx>=0.19.0->assemblyai) (1.1.3)\n",
            "Installing collected packages: websockets, h11, httpcore, httpx, assemblyai\n",
            "Successfully installed assemblyai-0.19.0 h11-0.14.0 httpcore-0.18.0 httpx-0.25.0 websockets-12.0\n"
          ]
        }
      ]
    },
    {
      "cell_type": "markdown",
      "source": [
        "Import the assemblyai package and set the API key.\n",
        "\n"
      ],
      "metadata": {
        "id": "MwwCHI1AjYdJ"
      }
    },
    {
      "cell_type": "code",
      "source": [
        "import assemblyai as aai\n",
        "\n",
        "aai.settings.api_key = \"YOUR-API-KEY\""
      ],
      "metadata": {
        "id": "AyE7BUBnjfkt"
      },
      "execution_count": 2,
      "outputs": []
    },
    {
      "cell_type": "markdown",
      "source": [
        "Create a Transcriber object.\n"
      ],
      "metadata": {
        "id": "vyDXhkqkjhXh"
      }
    },
    {
      "cell_type": "code",
      "source": [
        "transcriber = aai.Transcriber()\n"
      ],
      "metadata": {
        "id": "xrx_D4cxjjfh"
      },
      "execution_count": 3,
      "outputs": []
    },
    {
      "cell_type": "markdown",
      "source": [
        "Use the Transcriber object's transcribe method and pass in the audio file's path as a parameter. The transcribe method saves the results of the transcription to the Transcriber object's transcript attribute."
      ],
      "metadata": {
        "id": "0Tnxu229jpDE"
      }
    },
    {
      "cell_type": "code",
      "source": [
        "transcript = transcriber.transcribe(\"./my-audio.mp3\")"
      ],
      "metadata": {
        "id": "yghza_7tjrgQ"
      },
      "execution_count": null,
      "outputs": []
    },
    {
      "cell_type": "markdown",
      "source": [
        "Alternatively, you can pass in the URL of the publicly accessible audio file on the internet.\n",
        "\n"
      ],
      "metadata": {
        "id": "dkOKPKBSjtA8"
      }
    },
    {
      "cell_type": "code",
      "source": [
        "transcript = transcriber.transcribe(\"https://storage.googleapis.com/aai-docs-samples/espn.m4a\")"
      ],
      "metadata": {
        "id": "dhZvEAl2joyF"
      },
      "execution_count": 4,
      "outputs": []
    },
    {
      "cell_type": "markdown",
      "source": [
        "Define a function that converts seconds to timecodes"
      ],
      "metadata": {
        "id": "4a-Dbw8fj5x9"
      }
    },
    {
      "cell_type": "code",
      "source": [
        "def second_to_timecode(x: float) -> str:\n",
        "    hour, x = divmod(x, 3600)\n",
        "    minute, x = divmod(x, 60)\n",
        "    second, x = divmod(x, 1)\n",
        "    millisecond = int(x * 1000.)\n",
        "\n",
        "    return '%.2d:%.2d:%.2d,%.3d' % (hour, minute, second, millisecond)"
      ],
      "metadata": {
        "id": "BdXWruwNkAZH"
      },
      "execution_count": 5,
      "outputs": []
    },
    {
      "cell_type": "markdown",
      "source": [
        "Define a function that iterates through the transcripts object to construct a list according to the number of words per subtitle"
      ],
      "metadata": {
        "id": "N6sZzPD7kE26"
      }
    },
    {
      "cell_type": "code",
      "execution_count": 18,
      "metadata": {
        "id": "BHtOhJqkh0KI"
      },
      "outputs": [],
      "source": [
        "def generate_subtitles_by_word_count(words_per_line):\n",
        "  output = []\n",
        "  i = 0\n",
        "  while i < len(transcript.words):\n",
        "      output.append(str(i // words_per_line + 1))  # Adjusted subtitle index\n",
        "\n",
        "      start_time = second_to_timecode(transcript.words[i].start/1000)\n",
        "\n",
        "      # Check for out-of-bounds and adjust the end time accordingly\n",
        "      if i + words_per_line - 1 < len(transcript.words):\n",
        "          end_time = second_to_timecode(transcript.words[i + words_per_line - 1].end/1000)\n",
        "      else:\n",
        "          end_time = second_to_timecode(transcript.words[-1].end/1000)\n",
        "\n",
        "      output.append(\"%s --> %s\" % (start_time, end_time))\n",
        "\n",
        "      # Concatenate the required number of words together\n",
        "      words = \" \".join([word.text for word in transcript.words[i:i+words_per_line]])\n",
        "      output.append(words)\n",
        "      output.append(\"\")\n",
        "\n",
        "      i += words_per_line\n",
        "\n",
        "  return output"
      ]
    },
    {
      "cell_type": "markdown",
      "source": [
        "Generate your subtitle file"
      ],
      "metadata": {
        "id": "n-3pqh9ClGUn"
      }
    },
    {
      "cell_type": "code",
      "source": [
        "subs = generate_subtitles_by_word_count(1)\n",
        "with open(f\"{transcript.id}.srt\", 'w') as o:\n",
        "    final = '\\n'.join(subs)\n",
        "    o.write(final)\n",
        "\n",
        "print(\"SRT file generated.\")"
      ],
      "metadata": {
        "colab": {
          "base_uri": "https://localhost:8080/"
        },
        "id": "T8pOkDjQlOUi",
        "outputId": "8b8fcd3e-6414-4626-8ee1-a39f4b79d953"
      },
      "execution_count": 23,
      "outputs": [
        {
          "output_type": "stream",
          "name": "stdout",
          "text": [
            "SRT file generated.\n"
          ]
        }
      ]
    },
    {
      "cell_type": "markdown",
      "source": [
        "# Conclusion\n",
        "This is a useful script for those looking to customise the number of words in their captions instead of the number of characters!"
      ],
      "metadata": {
        "id": "Bo2TwNyOnd7F"
      }
    }
  ]
}