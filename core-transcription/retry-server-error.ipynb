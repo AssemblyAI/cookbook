{
 "cells": [
  {
   "cell_type": "markdown",
   "metadata": {},
   "source": [
    "# How to Implement Retry Server Error Logic\n",
    "\n",
    "In this guide, we'll show you how to setup automatic server error retry logic in your transcription process.\n",
    "\n",
    "Server Errors indicate an server-side issue during the transcription process. These rarely happen but can occasionally occur on our side. If a transcription fails due to a server error, we recommend that you resubmit the file for transcription to allow another server to process the audio. If the issue persists, please reach out to our Support team!: support@assemblyai.com\n",
    "\n",
    "This workflow is designed to automatically retry these transcripts if a server error is encountered.\n",
    "\n",
    "> **If your transcription fails due to a server error on our side, we will automatically retry the request up to three times. You can find this option in your [Account Settings](https://assemblyai.com/app/account).**\n",
    "\n",
    "## Get started\n",
    "\n",
    "Before we begin, make sure you have an AssemblyAI account and an API key. You can [sign up](https://assemblyai.com/dashboard/signup) for a free account and get your API key from your dashboard.\n",
    "\n",
    "## Step-by-step instructions\n",
    "\n",
    "Install the SDK:"
   ]
  },
  {
   "cell_type": "code",
   "execution_count": null,
   "metadata": {},
   "outputs": [],
   "source": [
    "%pip install assemblyai"
   ]
  },
  {
   "cell_type": "markdown",
   "metadata": {},
   "source": [
    "Import the `assemblyai` and `time` package and set your API key:"
   ]
  },
  {
   "cell_type": "code",
   "execution_count": 2,
   "metadata": {},
   "outputs": [],
   "source": [
    "import assemblyai as aai\n",
    "import time\n",
    "\n",
    "aai.settings.api_key = \"YOUR_API_KEY\""
   ]
  },
  {
   "cell_type": "markdown",
   "metadata": {},
   "source": [
    "Create a function that handles errors that may occur during the transcription process. The default number of retires is 1. The default wait time before retranscribing is 5 seconds."
   ]
  },
  {
   "cell_type": "code",
   "execution_count": 3,
   "metadata": {},
   "outputs": [],
   "source": [
    "def handle_error_transcription(audio_url, transcriber, config, retries=1, wait_time=5):\n",
    "    for attempt in range(retries + 1):\n",
    "        transcript = transcriber.transcribe(audio_url, config)\n",
    "        if transcript.error == \"Server error, developers have been alerted\":\n",
    "            if attempt < retries:\n",
    "                print(f\"Encountered a server error. Retrying in {wait_time} second(s)...\")\n",
    "                time.sleep(wait_time)\n",
    "            else:\n",
    "                print(\"Retry failed with a server error. Please contact AssemblyAI Support: support@assemblyai.com\")\n",
    "                return None\n",
    "        elif transcript.status == aai.TranscriptStatus.error:\n",
    "            print(f\"Transcription failed: {transcript.error}\")\n",
    "            return None\n",
    "        else:\n",
    "            return transcript"
   ]
  },
  {
   "cell_type": "markdown",
   "metadata": {},
   "source": [
    "Define the audio file which you want to transcribe."
   ]
  },
  {
   "cell_type": "code",
   "execution_count": 4,
   "metadata": {},
   "outputs": [],
   "source": [
    "audio_url = \"https://storage.googleapis.com/aai-web-samples/5_common_sports_injuries.mp3\""
   ]
  },
  {
   "cell_type": "markdown",
   "metadata": {},
   "source": [
    "Create a `Transcriber` object and specify features in `TranscriptionConfig`."
   ]
  },
  {
   "cell_type": "code",
   "execution_count": 5,
   "metadata": {},
   "outputs": [],
   "source": [
    "transcriber = aai.Transcriber()\n",
    "config = aai.TranscriptionConfig()"
   ]
  },
  {
   "cell_type": "markdown",
   "metadata": {},
   "source": [
    "Call the function to handle transcription with error handling. Specify number of retries and wait time. Return the transcribed text if transcription is successful."
   ]
  },
  {
   "cell_type": "code",
   "execution_count": null,
   "metadata": {},
   "outputs": [],
   "source": [
    "transcript = handle_error_transcription(audio_url, transcriber, config, retries=1, wait_time=5)\n",
    "if transcript:\n",
    "    print(transcript.text)"
   ]
  }
 ],
 "metadata": {
  "kernelspec": {
   "display_name": "venv",
   "language": "python",
   "name": "python3"
  },
  "language_info": {
   "codemirror_mode": {
    "name": "ipython",
    "version": 3
   },
   "file_extension": ".py",
   "mimetype": "text/x-python",
   "name": "python",
   "nbconvert_exporter": "python",
   "pygments_lexer": "ipython3",
   "version": "3.10.13"
  }
 },
 "nbformat": 4,
 "nbformat_minor": 2
}
