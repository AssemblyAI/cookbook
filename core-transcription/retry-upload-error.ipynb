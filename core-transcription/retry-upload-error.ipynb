{
 "cells": [
  {
   "cell_type": "markdown",
   "metadata": {},
   "source": [
    "# How to Implement Retry Upload Error Logic\n",
    "\n",
    "In this guide, we'll show you how to set up automatic upload error retry logic in your transcription process.\n",
    "\n",
    "Upload errors could be a result of a transient issue with our servers or they could be related to an issue with the file itself. Most likely the issue would be that the file is empty. Because the cause can be unclear at first, we recommend adding some retry logic to handle the rare occasions in which our upload service is experiencing performance issues. If the upload failure persists, you'll want to check whether the file is empty. If you're unclear on why the file is failing, please reach out to our support team at support@assemblyai.com.\n",
    "\n",
    "This workflow is designed to automatically retry file uploads if an upload error is encountered.\n",
    "\n",
    "\n",
    "## Get started\n",
    "\n",
    "Before we begin, make sure you have an AssemblyAI account and an API key. You can [sign up](https://assemblyai.com/dashboard/signup) for a free account and get your API key from your dashboard.\n",
    "\n",
    "## Step-by-step instructions\n",
    "\n",
    "Install the SDK:"
   ]
  },
  {
   "cell_type": "code",
   "execution_count": null,
   "metadata": {},
   "outputs": [],
   "source": [
    "%pip install assemblyai"
   ]
  },
  {
   "cell_type": "markdown",
   "metadata": {},
   "source": [
    "Import the `assemblyai` package and assemblyai's `TranscriptError`. Additionally import the and `time` package and set your API key:"
   ]
  },
  {
   "cell_type": "code",
   "execution_count": 4,
   "metadata": {},
   "outputs": [],
   "source": [
    "import assemblyai as aai\n",
    "import time\n",
    "from assemblyai.types import TranscriptError\n",
    "\n",
    "# Set API key\n",
    "aai.settings.api_key = \"YOUR_API_KEY\""
   ]
  },
  {
   "cell_type": "markdown",
   "metadata": {},
   "source": [
    "Create a function that retries upload failures. This example retries up to 3 times with a delay of 5 seconds each time."
   ]
  },
  {
   "cell_type": "code",
   "execution_count": null,
   "metadata": {},
   "outputs": [],
   "source": [
    "def transcribe_with_upload_retry(file_path, retries=3, delay=5):\n",
    "    transcriber = aai.Transcriber()\n",
    "\n",
    "    for attempt in range(retries):\n",
    "        try:\n",
    "            # Attempt to transcribe the file\n",
    "            config = aai.TranscriptionConfig(speaker_labels=True)\n",
    "            transcript = transcriber.transcribe(file_path, config)\n",
    "            return transcript\n",
    "        \n",
    "        except TranscriptError as e:\n",
    "            # Handle specific error if upload fails\n",
    "            print(f\"Attempt {attempt + 1} failed. {e}\")\n",
    "            \n",
    "            # Retry if a TranscriptError occurs, \n",
    "            if attempt + 1 < retries:\n",
    "                print(f\"Retrying in {delay} seconds...\")\n",
    "                time.sleep(delay)\n",
    "            else:\n",
    "                raise e  # Raise the error after max retries\n",
    "\n",
    "    print(\"Max retries reached. Transcription failed.\")\n",
    "    return None\n",
    "\n",
    "# Call the function\n",
    "transcribe_with_upload_retry(\"audio.mp3\")"
   ]
  }
 ],
 "metadata": {
  "kernelspec": {
   "display_name": "base",
   "language": "python",
   "name": "python3"
  },
  "language_info": {
   "codemirror_mode": {
    "name": "ipython",
    "version": 3
   },
   "file_extension": ".py",
   "mimetype": "text/x-python",
   "name": "python",
   "nbconvert_exporter": "python",
   "pygments_lexer": "ipython3",
   "version": "3.12.4"
  }
 },
 "nbformat": 4,
 "nbformat_minor": 2
}
