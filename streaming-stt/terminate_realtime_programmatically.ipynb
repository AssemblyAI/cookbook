{
  "nbformat": 4,
  "nbformat_minor": 0,
  "metadata": {
    "colab": {
      "provenance": []
    },
    "kernelspec": {
      "name": "python3",
      "display_name": "Python 3"
    },
    "language_info": {
      "name": "python"
    }
  },
  "cells": [
    {
      "cell_type": "markdown",
      "source": [
        "# Terminate real-time session after inactivity"
      ],
      "metadata": {
        "id": "nJFtEoTSlGkX"
      }
    },
    {
      "cell_type": "markdown",
      "source": [
        "An often-overlooked aspect of implementing AssemblyAI's Real-Time transcription service is efficiently terminating transcription sessions. In this cookbook, you will learn how to terminate a real-time session after any fixed duration of silence.\n",
        "\n",
        "[For the full code, refer to this GitHub gist.](https://gist.github.com/m-ods/133f7c7e4c08abf97ae53dc7577cadf7)"
      ],
      "metadata": {
        "id": "-FaHmXYvmehO"
      }
    },
    {
      "cell_type": "markdown",
      "source": [
        "First, install AssemblyAI's Python SDK."
      ],
      "metadata": {
        "id": "C7x3wQls8WQX"
      }
    },
    {
      "cell_type": "code",
      "execution_count": null,
      "metadata": {
        "id": "kmSvU1JklBLd"
      },
      "outputs": [],
      "source": [
        "!pip install \"assemblyai[all]\""
      ]
    },
    {
      "cell_type": "markdown",
      "source": [
        "Before we begin, make sure you have an AssemblyAI account and an API key. You can sign up for a free account and get your API key from your dashboard. Please note that real-time transcription is only available for Pro accounts. If you're on the free plan, you'll need to upgrade.\n",
        "\n"
      ],
      "metadata": {
        "id": "AvsEMdBKlveq"
      }
    },
    {
      "cell_type": "code",
      "source": [
        "import assemblyai as aai\n",
        "from datetime import datetime, timedelta\n",
        "\n",
        "aai.settings.api_key = \"YOUR-API-KEY\""
      ],
      "metadata": {
        "id": "q0mbZ-LoluyM"
      },
      "execution_count": null,
      "outputs": []
    },
    {
      "cell_type": "markdown",
      "source": [
        "## Handling inactivity\n",
        "\n",
        "### Empty transcripts\n",
        "As long as a session is open, our Real-time service will continue sending empty `PartialTranscript`s that look like this:\n",
        "\n",
        "Message 1:\n",
        "```\n",
        "{\"message_type\":\"PartialTranscript\", \"created\":\"2023-11-10T16:10:22.754985\",\n",
        "\"text\":\"\", ...}\n",
        "```\n",
        "\n",
        "Message 2:\n",
        "```\n",
        "{\"message_type\":\"PartialTranscript\", \"created\":\"2023-11-10T16:10:25.297511\",\n",
        "\"text\":\"\", ...}\n",
        "```\n",
        "\n",
        "Thus, we can use empty partial transcripts to assume that the user has stopped speaking.\n",
        "\n",
        "Note: Other keys in the payload have been omitted for brevity but can be seen [here in our Real-time API Reference. ](https://www.assemblyai.com/docs/guides/real-time-streaming-transcription#partial-transcripts)"
      ],
      "metadata": {
        "id": "qNoz-czClxFy"
      }
    },
    {
      "cell_type": "markdown",
      "source": [
        "## Implementing Partial Transcript Checks\n",
        "\n",
        "Let's consider a code example to track if the `PartialTranscript`s have been empty for a duration of time."
      ],
      "metadata": {
        "id": "9jxI1ZO0BJbC"
      }
    },
    {
      "cell_type": "markdown",
      "source": [
        "Define your Real-time functions as per normal."
      ],
      "metadata": {
        "id": "tCF2huuKCLcW"
      }
    },
    {
      "cell_type": "code",
      "source": [
        "def on_open(session_opened: aai.RealtimeSessionOpened):\n",
        "  \"This function is called when the connection has been established.\"\n",
        "\n",
        "  print(\"Session ID:\", session_opened.session_id)\n",
        "\n",
        "def on_error(error: aai.RealtimeError):\n",
        "  \"This function is called when the connection has been closed.\"\n",
        "\n",
        "  print(\"An error occured:\", error)"
      ],
      "metadata": {
        "id": "lKPi5OG2CK8l"
      },
      "execution_count": null,
      "outputs": []
    },
    {
      "cell_type": "markdown",
      "source": [
        "Then, define the constant `last_transcript_received = datetime.now()`, and set a flag `terminated` to be `False`.\n",
        "\n",
        "We will use these variables later on."
      ],
      "metadata": {
        "id": "IZlKqijLCaPk"
      }
    },
    {
      "cell_type": "code",
      "source": [
        "last_transcript_received = datetime.now()\n",
        "terminated = False\n"
      ],
      "metadata": {
        "id": "VBuGNumRBIyi"
      },
      "execution_count": null,
      "outputs": []
    },
    {
      "cell_type": "markdown",
      "source": [
        "Next, define your `on_data` function:\n",
        "*   Access the global variable `last_transcript_received`, as well as `terminated`\n",
        "*   If the real-time transcriber has been terminated, don't return anything.\n",
        "*   If `transcript.text` is empty, check if it has been 5 seconds since the last empty transcript. When true, terminate the transcriber.\n",
        "*   Else, just print the text in our terminal as per usual, and set the time of the last transcript received to now.\n"
      ],
      "metadata": {
        "id": "NZMnfymlp_Z-"
      }
    },
    {
      "cell_type": "code",
      "source": [
        "def on_data(transcript: aai.RealtimeTranscript):\n",
        "    global last_transcript_received\n",
        "    global terminated\n",
        "\n",
        "    if terminated:\n",
        "        return\n",
        "\n",
        "    if transcript.text == \"\":\n",
        "        # you can set the total_seconds of inactivity to be higher or lower\n",
        "        if (datetime.now() - last_transcript_received).total_seconds() > 5:\n",
        "            print(\"5 seconds without new transcription, terminating...\")\n",
        "            terminate_transcription()\n",
        "        return\n",
        "\n",
        "    if isinstance(transcript, aai.RealtimeFinalTranscript):\n",
        "        print(transcript.text, end=\"\\r\\n\")\n",
        "    else:\n",
        "        print(transcript.text, end=\"\\r\")\n",
        "\n",
        "    last_transcript_received = datetime.now()"
      ],
      "metadata": {
        "id": "hP77brVvqlCp"
      },
      "execution_count": null,
      "outputs": []
    },
    {
      "cell_type": "markdown",
      "source": [
        "Lastly, we define our `on_close` and `terminate_transcription` function. On_close simply sets terminated to true when the Websocket connection closes.\n",
        "\n",
        "`terminate_transcription` just accesses the global `transcriber` and closes the session when the function is called by `on_data`.\n",
        "\n"
      ],
      "metadata": {
        "id": "Ilwc0S0jqmvQ"
      }
    },
    {
      "cell_type": "code",
      "source": [
        "def on_close():\n",
        "    global terminated\n",
        "    if not terminated:\n",
        "        print(\"Closing Session\")\n",
        "        terminated = True\n",
        "\n",
        "def terminate_transcription():\n",
        "    global terminated\n",
        "    if not terminated:\n",
        "        transcriber.close()\n",
        "        terminated = True"
      ],
      "metadata": {
        "id": "bpQdsXF8qpu5"
      },
      "execution_count": null,
      "outputs": []
    },
    {
      "cell_type": "markdown",
      "source": [
        "Create your Real-time transcriber and start your transcription."
      ],
      "metadata": {
        "id": "GjaKGNQ9DUSe"
      }
    },
    {
      "cell_type": "code",
      "source": [
        "# Create the Real-Time transcriber\n",
        "transcriber = aai.RealtimeTranscriber(\n",
        "  on_data=on_data,\n",
        "  on_error=on_error,\n",
        "  sample_rate=44_100,\n",
        "  on_open=on_open, # optional\n",
        "  on_close=on_close, # optional\n",
        ")\n",
        "\n",
        "# Start the connection\n",
        "transcriber.connect()\n",
        "\n",
        "# Open a microphone stream\n",
        "microphone_stream = aai.extras.MicrophoneStream()\n",
        "\n",
        "# Press CTRL+C to abort\n",
        "transcriber.stream(microphone_stream)"
      ],
      "metadata": {
        "id": "MnxXQ537_ZPJ"
      },
      "execution_count": null,
      "outputs": []
    },
    {
      "cell_type": "markdown",
      "source": [
        "What you should observe is that transcription works in real-time and automatically terminates after 5 seconds!"
      ],
      "metadata": {
        "id": "jkoZtIFfDhDj"
      }
    }
  ]
}