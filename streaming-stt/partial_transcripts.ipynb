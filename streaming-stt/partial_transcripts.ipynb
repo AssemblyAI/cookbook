{
  "cells": [
    {
      "cell_type": "markdown",
      "metadata": {
        "id": "nJFtEoTSlGkX"
      },
      "source": [
        "# Capturing complete sentences as partial transcriptions in AssemblyAI"
      ]
    },
    {
      "cell_type": "markdown",
      "metadata": {},
      "source": []
    },
    {
      "cell_type": "markdown",
      "metadata": {
        "id": "-FaHmXYvmehO"
      },
      "source": [
        "To effectively use AssemblyAI's Streaming Speech-to-Text (STT) API for partial transcripts, particularly in scenarios where final transcripts (which include punctuation and casing) are not required, you need to understand how partial transcripts work and how to handle them in your application. Here’s a guide to help you get started. [For the full code, refer to this GitHub gist.](https://gist.github.com/m-ods/84b2a54b417897b06c0e13469fb64d61)"
      ]
    },
    {
      "cell_type": "markdown",
      "metadata": {
        "id": "C7x3wQls8WQX"
      },
      "source": [
        "First, install AssemblyAI's Python SDK."
      ]
    },
    {
      "cell_type": "code",
      "execution_count": null,
      "metadata": {
        "id": "kmSvU1JklBLd"
      },
      "outputs": [],
      "source": [
        "!pip install \"assemblyai[all]\""
      ]
    },
    {
      "cell_type": "markdown",
      "metadata": {
        "id": "AvsEMdBKlveq"
      },
      "source": [
        "Before we begin, make sure you have an AssemblyAI account and an API key. You can sign up for a free account and get your API key from your dashboard. Please note that this feature is available for paid accounts only. If you're on the free plan, you'll need to upgrade.\n",
        "\n"
      ]
    },
    {
      "cell_type": "code",
      "execution_count": null,
      "metadata": {
        "id": "q0mbZ-LoluyM"
      },
      "outputs": [],
      "source": [
        "import assemblyai as aai\n",
        "\n",
        "aai.settings.api_key = \"YOUR-API-KEY\""
      ]
    },
    {
      "cell_type": "markdown",
      "metadata": {
        "id": "qNoz-czClxFy"
      },
      "source": [
        "## Understanding Partial Transcripts\n",
        "\n",
        "### What are Partial Transcripts?\n",
        "Partial transcripts are incomplete and ongoing transcriptions of an audio stream. They provide a near real-time text representation of spoken words before the entire speech is finished.\n",
        "\n",
        "They are useful in scenarios where immediate text feedback is more important than the complete accuracy or formatting of the final transcript.\n",
        "\n",
        "### Example Use Cases where Partial Transcripts suffice\n",
        "*   Chat bots processed using LLMs\n",
        "*   Voice Command Recognition\n",
        "*   Real-time Translations\n",
        "\n",
        "\n",
        "### What do Partial Transcripts look like?\n",
        "For a sentence such as \"What is the capital of New Zealand\", these are the messages you would receive from our API.\n",
        "\n",
        "Message 1:\n",
        "```\n",
        "{\"message_type\":\"PartialTranscript\", \"created\":\"2023-11-10T16:10:22.754985\",\n",
        "\"text\":\"what is the\", ...}\n",
        "```\n",
        "\n",
        "Message 2:\n",
        "```\n",
        "{\"message_type\":\"PartialTranscript\", \"created\":\"2023-11-10T16:10:23.297511\",\n",
        "\"text\":\"what is the capital of\", ...}\n",
        "```\n",
        "\n",
        "Message 3:\n",
        "```\n",
        "{\"message_type\":\"PartialTranscript\", \"created\":\"2023-11-10T16:10:24.113527\",\n",
        "\"text\":\"what is the capital of new zealand\", ...}\n",
        "```\n",
        "\n",
        "Message 4 (Notice how the text is the exact same as in Message 3!):\n",
        "```\n",
        "{\"message_type\":\"PartialTranscript\", \"created\":\"2023-11-10T16:10:24.67045\",\n",
        "\"text\":\"what is the capital of new zealand\", ...}\n",
        "```\n",
        "\n",
        "Message 5:\n",
        "```\n",
        "{\"message_type\":\"FinalTranscript\", \"created\":\"2023-11-10T16:10:24.9708\",\n",
        "\"text\":\"What is the capital of New Zealand?\", ...}\n",
        "```\n",
        "\n",
        "Notice that after the text in Messages 3 and 4 are the exact same, a Final Transcript is triggered. Instead, we can programmatically check if the text in a given Message matches the text from a previous Message, and then use that to deduce that the transcript is complete.\n",
        "\n",
        "Note: Other keys in the payload have been omitted for brevity but can be seen [here in our Streaming API Reference. ](https://www.assemblyai.com/docs/api-reference/streaming)"
      ]
    },
    {
      "cell_type": "markdown",
      "metadata": {
        "id": "9jxI1ZO0BJbC"
      },
      "source": [
        "## Implementing Partial Transcript Checks\n",
        "\n",
        "Let's consider a code example to check if the partial transcript received from AssemblyAI matches the previous partial transcript."
      ]
    },
    {
      "cell_type": "markdown",
      "metadata": {
        "id": "tCF2huuKCLcW"
      },
      "source": [
        "Define your Streaming functions as per normal."
      ]
    },
    {
      "cell_type": "code",
      "execution_count": null,
      "metadata": {
        "id": "lKPi5OG2CK8l"
      },
      "outputs": [],
      "source": [
        "def on_open(session_opened: aai.RealtimeSessionOpened):\n",
        "  \"This function is called when the connection has been established.\"\n",
        "\n",
        "  print(\"Session ID:\", session_opened.session_id)\n",
        "\n",
        "def on_error(error: aai.RealtimeError):\n",
        "  \"This function is called when the connection has been closed.\"\n",
        "\n",
        "  print(\"An error occured:\", error)\n",
        "\n",
        "def on_close():\n",
        "  \"This function is called when the connection has been closed.\"\n",
        "\n",
        "  print(\"Closing Session\")"
      ]
    },
    {
      "cell_type": "markdown",
      "metadata": {
        "id": "IZlKqijLCaPk"
      },
      "source": [
        "Then, define an empty string for `partial_transcript`. In on_data(), we will do 3 things:\n",
        "\n",
        "\n",
        "*   Access the global string `partial_transcript`\n",
        "*   If the data received is a Final Transcript, reset `partial_transcript`.\n",
        "*   Else, if the `transcript.text` matches the previous `partial_transcript`, print it to our terminal\n",
        "*   Otherwise, set `partial_transcript` to be the Partial Transcript received from AssemblyAI.\n",
        "\n"
      ]
    },
    {
      "cell_type": "code",
      "execution_count": null,
      "metadata": {
        "id": "VBuGNumRBIyi"
      },
      "outputs": [],
      "source": [
        "partial_transcript = ''\n",
        "\n",
        "def on_data(transcript: aai.RealtimeTranscript):\n",
        "  \"This function is called when a new transcript has been received.\"\n",
        "\n",
        "  global partial_transcript\n",
        "\n",
        "  if not transcript.text:\n",
        "    return\n",
        "\n",
        "  if isinstance(transcript, aai.RealtimeFinalTranscript):\n",
        "    partial_transcript = \"\"\n",
        "  elif partial_transcript == transcript.text:\n",
        "    print(transcript.text, end=\"\\r\\n\")\n",
        "  else:\n",
        "    partial_transcript = transcript.text"
      ]
    },
    {
      "cell_type": "markdown",
      "metadata": {
        "id": "GjaKGNQ9DUSe"
      },
      "source": [
        "Create your Streaming transcriber and start your transcription."
      ]
    },
    {
      "cell_type": "code",
      "execution_count": 1,
      "metadata": {
        "id": "MnxXQ537_ZPJ"
      },
      "outputs": [],
      "source": [
        "# Create the Streaming transcriber\n",
        "transcriber = aai.RealtimeTranscriber(\n",
        "  on_data=on_data,\n",
        "  on_error=on_error,\n",
        "  sample_rate=44_100,\n",
        "  on_open=on_open, # optional\n",
        "  on_close=on_close, # optional\n",
        ")\n",
        "\n",
        "# Start the connection\n",
        "transcriber.connect()\n",
        "\n",
        "# Open a microphone stream\n",
        "microphone_stream = aai.extras.MicrophoneStream()\n",
        "\n",
        "# Press CTRL+C to abort\n",
        "transcriber.stream(microphone_stream)\n",
        "\n",
        "transcriber.close()"
      ]
    },
    {
      "cell_type": "markdown",
      "metadata": {
        "id": "jkoZtIFfDhDj"
      },
      "source": [
        "What you should observe is that partial transcripts are printed to the terminal within 500ms of being spoken. By following these guidelines and understanding how to handle Partial Transcripts, you can effectively integrate AssemblyAI's Streaming STT into your application for scenarios where immediate text feedback is crucial, even without the finesse of Final Transcripts."
      ]
    }
  ],
  "metadata": {
    "colab": {
      "provenance": []
    },
    "kernelspec": {
      "display_name": "Python 3",
      "name": "python3"
    },
    "language_info": {
      "name": "python"
    }
  },
  "nbformat": 4,
  "nbformat_minor": 0
}
