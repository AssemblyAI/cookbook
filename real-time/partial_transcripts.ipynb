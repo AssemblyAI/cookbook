{
  "nbformat": 4,
  "nbformat_minor": 0,
  "metadata": {
    "colab": {
      "provenance": []
    },
    "kernelspec": {
      "name": "python3",
      "display_name": "Python 3"
    },
    "language_info": {
      "name": "python"
    }
  },
  "cells": [
    {
      "cell_type": "markdown",
      "source": [
        "# Capturing complete sentences as partial transcriptions in AssemblyAI"
      ],
      "metadata": {
        "id": "nJFtEoTSlGkX"
      }
    },
    {
      "cell_type": "markdown",
      "source": [
        "To effectively use AssemblyAI's real-time API for partial transcripts, particularly in scenarios where final transcripts (which include punctuation and casing) are not required, you need to understand how partial transcripts work and how to handle them in your application. Here’s a guide to help you get started. [For the full code, refer to this GitHub gist.](https://gist.github.com/m-ods/84b2a54b417897b06c0e13469fb64d61)"
      ],
      "metadata": {
        "id": "-FaHmXYvmehO"
      }
    },
    {
      "cell_type": "markdown",
      "source": [
        "First, install AssemblyAI's Python SDK."
      ],
      "metadata": {
        "id": "C7x3wQls8WQX"
      }
    },
    {
      "cell_type": "code",
      "execution_count": null,
      "metadata": {
        "id": "kmSvU1JklBLd"
      },
      "outputs": [],
      "source": [
        "!pip install \"assemblyai[all]\""
      ]
    },
    {
      "cell_type": "markdown",
      "source": [
        "Before we begin, make sure you have an AssemblyAI account and an API key. You can sign up for a free account and get your API key from your dashboard. Please note that this feature is available for paid accounts only. If you're on the free plan, you'll need to upgrade.\n",
        "\n"
      ],
      "metadata": {
        "id": "AvsEMdBKlveq"
      }
    },
    {
      "cell_type": "code",
      "source": [
        "import assemblyai as aai\n",
        "\n",
        "aai.settings.api_key = \"YOUR-API-KEY\""
      ],
      "metadata": {
        "id": "q0mbZ-LoluyM"
      },
      "execution_count": null,
      "outputs": []
    },
    {
      "cell_type": "markdown",
      "source": [
        "## Understanding Partial Transcripts\n",
        "\n",
        "### What are Partial Transcripts?\n",
        "Partial transcripts are incomplete and ongoing transcriptions of an audio stream. They provide a near real-time text representation of spoken words before the entire speech is finished.\n",
        "\n",
        "They are useful in scenarios where immediate text feedback is more important than the complete accuracy or formatting of the final transcript.\n",
        "\n",
        "### Example Use Cases where Partial Transcripts suffice\n",
        "*   Chat bots processed using LLMs\n",
        "*   Voice Command Recognition\n",
        "*   Real-Time Translations\n",
        "\n",
        "\n",
        "### What do Partial Transcripts look like?\n",
        "For a sentence such as \"What is the capital of New Zealand\", these are the messages you would receive from our API.\n",
        "\n",
        "Message 1:\n",
        "```\n",
        "{\"message_type\":\"PartialTranscript\", \"created\":\"2023-11-10T16:10:22.754985\",\n",
        "\"text\":\"what is the\", ...}\n",
        "```\n",
        "\n",
        "Message 2:\n",
        "```\n",
        "{\"message_type\":\"PartialTranscript\", \"created\":\"2023-11-10T16:10:23.297511\",\n",
        "\"text\":\"what is the capital of\", ...}\n",
        "```\n",
        "\n",
        "Message 3:\n",
        "```\n",
        "{\"message_type\":\"PartialTranscript\", \"created\":\"2023-11-10T16:10:24.113527\",\n",
        "\"text\":\"what is the capital of new zealand\", ...}\n",
        "```\n",
        "\n",
        "Message 4 (Notice how the text is the exact same as in Message 3!):\n",
        "```\n",
        "{\"message_type\":\"PartialTranscript\", \"created\":\"2023-11-10T16:10:24.67045\",\n",
        "\"text\":\"what is the capital of new zealand\", ...}\n",
        "```\n",
        "\n",
        "Message 5:\n",
        "```\n",
        "{\"message_type\":\"FinalTranscript\", \"created\":\"2023-11-10T16:10:24.9708\",\n",
        "\"text\":\"What is the capital of New Zealand.\", ...}\n",
        "```\n",
        "\n",
        "Notice that after the text in Messages 3 and 4 are the exact same, a Final Transcript is triggered. Instead, we can programmatically check if the text in a given Message matches the text from a previous Message, and then use that to deduce that the transcript is complete.\n",
        "\n",
        "Note: Other keys in the payload have been omitted for brevity but can be seen [here in our Real-time API Reference. ](https://www.assemblyai.com/docs/guides/real-time-streaming-transcription#partial-transcripts)"
      ],
      "metadata": {
        "id": "qNoz-czClxFy"
      }
    },
    {
      "cell_type": "markdown",
      "source": [
        "## Implementing Partial Transcript Checks\n",
        "\n",
        "Let's consider a code example to check if the partial transcript received from AssemblyAI matches the previous partial transcript."
      ],
      "metadata": {
        "id": "9jxI1ZO0BJbC"
      }
    },
    {
      "cell_type": "markdown",
      "source": [
        "Define your Real-time functions as per normal."
      ],
      "metadata": {
        "id": "tCF2huuKCLcW"
      }
    },
    {
      "cell_type": "code",
      "source": [
        "def on_open(session_opened: aai.RealtimeSessionOpened):\n",
        "  \"This function is called when the connection has been established.\"\n",
        "\n",
        "  print(\"Session ID:\", session_opened.session_id)\n",
        "\n",
        "def on_error(error: aai.RealtimeError):\n",
        "  \"This function is called when the connection has been closed.\"\n",
        "\n",
        "  print(\"An error occured:\", error)\n",
        "\n",
        "def on_close():\n",
        "  \"This function is called when the connection has been closed.\"\n",
        "\n",
        "  print(\"Closing Session\")"
      ],
      "metadata": {
        "id": "lKPi5OG2CK8l"
      },
      "execution_count": null,
      "outputs": []
    },
    {
      "cell_type": "markdown",
      "source": [
        "Then, define an empty string for `partial_transcript`. In on_data(), we will do 3 things:\n",
        "\n",
        "\n",
        "*   Access the global string `partial_transcript`\n",
        "*   If the data received is a Final Transcript, reset `partial_transcript`.\n",
        "*   Else, if the `transcript.text` matches the previous `partial_transcript`, print it to our terminal\n",
        "*   Otherwise, set `partial_transcript` to be the Partial Transcript received from AssemblyAI.\n",
        "\n"
      ],
      "metadata": {
        "id": "IZlKqijLCaPk"
      }
    },
    {
      "cell_type": "code",
      "source": [
        "partial_transcript = ''\n",
        "\n",
        "def on_data(transcript: aai.RealtimeTranscript):\n",
        "  \"This function is called when a new transcript has been received.\"\n",
        "\n",
        "  global partial_transcript\n",
        "\n",
        "  if not transcript.text:\n",
        "    return\n",
        "\n",
        "  if isinstance(transcript, aai.RealtimeFinalTranscript):\n",
        "    partial_transcript = \"\"\n",
        "  elif partial_transcript == transcript.text:\n",
        "    print(transcript.text, end=\"\\r\\n\")\n",
        "  else:\n",
        "    partial_transcript = transcript.text"
      ],
      "metadata": {
        "id": "VBuGNumRBIyi"
      },
      "execution_count": null,
      "outputs": []
    },
    {
      "cell_type": "markdown",
      "source": [
        "Create your Real-time transcriber and start your transcription."
      ],
      "metadata": {
        "id": "GjaKGNQ9DUSe"
      }
    },
    {
      "cell_type": "code",
      "source": [
        "# Create the Real-Time transcriber\n",
        "transcriber = aai.RealtimeTranscriber(\n",
        "  on_data=on_data,\n",
        "  on_error=on_error,\n",
        "  sample_rate=44_100,\n",
        "  on_open=on_open, # optional\n",
        "  on_close=on_close, # optional\n",
        ")\n",
        "\n",
        "# Start the connection\n",
        "transcriber.connect()\n",
        "\n",
        "# Open a microphone stream\n",
        "microphone_stream = aai.extras.MicrophoneStream()\n",
        "\n",
        "# Press CTRL+C to abort\n",
        "transcriber.stream(microphone_stream)\n",
        "\n",
        "transcriber.close()"
      ],
      "metadata": {
        "id": "MnxXQ537_ZPJ"
      },
      "execution_count": 1,
      "outputs": []
    },
    {
      "cell_type": "markdown",
      "source": [
        "What you should observe is that partial transcripts are printed to the terminal within 500ms of being spoken. By following these guidelines and understanding how to handle Partial Transcripts, you can effectively integrate AssemblyAI's Real-time transcription into your application for scenarios where immediate text feedback is crucial, even without the finesse of Final Transcripts."
      ],
      "metadata": {
        "id": "jkoZtIFfDhDj"
      }
    }
  ]
}