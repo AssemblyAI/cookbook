{
  "nbformat": 4,
  "nbformat_minor": 0,
  "metadata": {
    "colab": {
      "provenance": []
    },
    "kernelspec": {
      "name": "python3",
      "display_name": "Python 3"
    },
    "language_info": {
      "name": "python"
    }
  },
  "cells": [
    {
      "cell_type": "markdown",
      "source": [
        "# Using LeMUR with Real-time\n",
        "\n",
        "This script is modified to contain a global variable `conversation_data` that accumulates the transcribed text in the `on_data` function. Once the transcription session is closed, the `on_close` function sends `conversation_data` to LeMUR for analysis using LeMUR's `input_text` parameter."
      ],
      "metadata": {
        "id": "mlzJgtaDIycN"
      }
    },
    {
      "cell_type": "code",
      "execution_count": null,
      "metadata": {
        "id": "Hf5k06F1HFJl"
      },
      "outputs": [],
      "source": [
        "import assemblyai as aai\n",
        "\n",
        "aai.settings.api_key = \"YOUR-API-KEY\"\n",
        "\n",
        "def on_open(session_opened: aai.RealtimeSessionOpened):\n",
        "  \"This function is called when the connection has been established.\"\n",
        "\n",
        "  print(\"Session ID:\", session_opened.session_id)\n",
        "\n",
        "def on_data(transcript: aai.RealtimeTranscript):\n",
        "  \"This function is called when a new transcript has been received.\"\n",
        "\n",
        "  global conversation_data\n",
        "\n",
        "  if not transcript.text:\n",
        "    return\n",
        "\n",
        "  if isinstance(transcript, aai.RealtimeFinalTranscript):\n",
        "    print(transcript.text, end=\"\\r\\n\")\n",
        "    conversation_data += f\"{transcript.text} \\n\"\n",
        "  else:\n",
        "    print(transcript.text, end=\"\\r\")\n",
        "\n",
        "def on_error(error: aai.RealtimeError):\n",
        "  \"This function is called when the connection has been closed.\"\n",
        "\n",
        "  print(\"An error occured:\", error)\n",
        "\n",
        "def on_close():\n",
        "  \"This function is called when the connection has been closed.\"\n",
        "  global conversation_data\n",
        "  print(\"Closing Session\")\n",
        "  result = aai.Lemur().task(\n",
        "    \"You are a helpful coach. Provide an analysis of the transcript \"\n",
        "    \"and offer areas to improve with exact quotes. Include no preamble. \"\n",
        "    \"Start with an overall summary then get into the examples with feedback.\",\n",
        "    input_text=conversation_data\n",
        "  )\n",
        "\n",
        "  print(result.response)\n",
        "\n",
        "# Create the Real-Time transcriber\n",
        "transcriber = aai.RealtimeTranscriber(\n",
        "  on_data=on_data,\n",
        "  on_error=on_error,\n",
        "  sample_rate=44_100,\n",
        "  on_open=on_open, # optional\n",
        "  on_close=on_close, # optional\n",
        ")\n",
        "\n",
        "conversation_data = \"\"\n",
        "\n",
        "# Start the connection\n",
        "transcriber.connect()\n",
        "\n",
        "# Open a microphone stream\n",
        "microphone_stream = aai.extras.MicrophoneStream()\n",
        "\n",
        "# Press CTRL+C to abort\n",
        "transcriber.stream(microphone_stream)\n",
        "\n",
        "transcriber.close()"
      ]
    }
  ]
}